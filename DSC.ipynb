{
 "cells": [
  {
   "cell_type": "code",
   "execution_count": 64,
   "metadata": {},
   "outputs": [],
   "source": [
    "import sys\n",
    "import matplotlib.pyplot as plt\n",
    "import matplotlib.animation as animation\n",
    "import time\n",
    "import pylab as pl\n",
    "from IPython import display"
   ]
  },
  {
   "cell_type": "code",
   "execution_count": 15,
   "metadata": {},
   "outputs": [
    {
     "data": {
      "image/png": "[encoded data removed]",
      "text/plain": [
       "<IPython.core.display.Image object>"
      ]
     },
     "execution_count": 15,
     "metadata": {},
     "output_type": "execute_result"
    }
   ],
   "source": [
    "from IPython.display import Image\n",
    "import matplotlib.pyplot as plt\n",
    "Image(\"files/Study/DSC/img_borning_place.png\")"
   ]
  },
  {
   "cell_type": "code",
   "execution_count": 2,
   "metadata": {},
   "outputs": [],
   "source": [
    "# Входные данные. Задаём номер варианта\n",
    "N = 20\n",
    "# \n",
    "Lx = 250 + 10*N\n",
    "Ly = 200\n",
    "Lz1 = 80 + N\n",
    "Lz2 = 50 + 10*N\n",
    "\n",
    "# начальные состояния невозмущенных грунтовых вод\n",
    "H_201 = Lz1 + 10 + N #  м\n",
    "H_202 = H_201 - 25\n",
    "dH = H_202 - H_201\n",
    "n = 25\n"
   ]
  },
  {
   "cell_type": "code",
   "execution_count": 3,
   "metadata": {},
   "outputs": [
    {
     "name": "stdout",
     "output_type": "stream",
     "text": [
      "Геометрические данные:   Lx =  450    Ly =  200    Lz1 =  100    Lz2 =  250\n"
     ]
    }
   ],
   "source": [
    "print('Геометрические данные:  ','Lx = ',Lx,'  ','Ly = ',Ly,'  ','Lz1 = ',Lz1,'  ','Lz2 = ',Lz2,)"
   ]
  },
  {
   "cell_type": "code",
   "execution_count": 4,
   "metadata": {},
   "outputs": [],
   "source": [
    "# вычисление числа точек дискретизации по координатам\n",
    "Nx = 9\n",
    "Ny = 9\n",
    "Nz1 = 9\n",
    "Nz2 = 9\n",
    "\n",
    "# Средняя точка водоносного пласта ?????????\n",
    "x0 = 5#Lx/2\n",
    "y0 = 5#Ly/2\n",
    "z0 = 5#Lz2/2\n",
    "\n",
    "# Добывающая скважина осуществляет забор гидроминерального сырья «точке»\n",
    "#Nx0 = 7\n",
    "#Ny0 = 11\n",
    "#Nz20 = 5\n",
    "\n",
    "# Шаги дисретизации заданы\n",
    "def step_d(L, N):\n",
    "    return L/(N-1)\n",
    "\n",
    "dx = step_d(Lx,Nx)\n",
    "dy = step_d(Ly,Ny)\n",
    "dz1 = step_d(Lz1,Nz1)\n",
    "dz2 = step_d(Lz2,Nz2)\n",
    "\n",
    "\n",
    "ch = 3600*24\n",
    "# Дебит рассматриваемой скважины\n",
    "Q = -10/ch# m^2/сут\n",
    "K = 0.00191487*0.8847618*1.8196176619 # 0.001\n",
    "V = K*Q\n",
    "\n",
    "# Коэффициенты фильтрациии по соответствующим координатам\n",
    "kx = [0.198/ch, 0.146/ch]\n",
    "ky = [0.196/ch, 0.148/ch]\n",
    "kz = [0.148/ch, 0.024/ch]\n",
    "\n",
    "# упругоемкость пласта\n",
    "nu = 0.000581\n",
    "\n",
    "# параметр перетекания, сут^(-1)\n",
    "b1 = 0.0000035/ch "
   ]
  },
  {
   "cell_type": "code",
   "execution_count": 5,
   "metadata": {},
   "outputs": [],
   "source": [
    "def dirac_delta_function(x, y, z):\n",
    "    return (1 if x == x0 and y == y0 and z == z0 else 0)"
   ]
  },
  {
   "cell_type": "code",
   "execution_count": 6,
   "metadata": {},
   "outputs": [],
   "source": [
    "# задание переменной по нарзану\n",
    "h = [[[0]*Nz1]*Ny]*Nx\n",
    "\n",
    "# задание переменной по грунтовым водам\n",
    "H = [[[0]*Nz2]*Ny]*Nx\n",
    "Hk = [[[0]*Nz2]*Ny]*Nx\n",
    "\n",
    "del_h = [[[0]*Nz1]*Ny]*Nx\n",
    "del_H = [[[0]*Nz2]*Ny]*Nx"
   ]
  },
  {
   "cell_type": "code",
   "execution_count": 7,
   "metadata": {},
   "outputs": [],
   "source": [
    "H0 = H_201\n",
    "\n",
    "for i in range(0,Nx,1):\n",
    "    for j in range(0,Ny,1):\n",
    "        for s in range(0,Nz2,1):\n",
    "            Hk[i][j][s] = H[i][j][s] = H_201 - dH*(i-1)/(Nx-1)\n",
    "        for s in range(0,Nz1,1):\n",
    "            h[i][j][s] = (s-1)*dz1"
   ]
  },
  {
   "cell_type": "code",
   "execution_count": 93,
   "metadata": {},
   "outputs": [],
   "source": [
    "dtau = 1\n",
    "tau = 200\n",
    "start_t = 0\n",
    "ans = []\n",
    "time_in_day = []\n",
    "ans2 = [0]*tau\n",
    "\n",
    "for t in range (start_t,tau,dtau):\n",
    "    for i in range(1, Nx-1, 1):\n",
    "        for j in range(1, Ny-1,1):\n",
    "            for s in range(1, Nz1-1,1):            \n",
    "                del_H[i][j][s] = dtau/nu*(kx[1]*(H[i-1][j][s]-2*H[i][j][s]+H[i+1][j][s])/dx/dx\n",
    "                                           +ky[1]*(H[i][j-1][s]-2*H[i][j][s]+H[i][j+1][s])/dy/dy\n",
    "                                           +kz[1]*(H[i][j][s-1]-2*H[i][j][s]+H[i][j][s+1])/dz1/dz1)\n",
    "                +V*dirac_delta_function(i,j,s)\n",
    "                #print(del_H[i][j][s])\n",
    "                \n",
    "                \n",
    "            for s in range(1,Nz2-1,1):\n",
    "                del_h[i][j][s] = dtau*((kx[0]*h[i-1][j][s]-2*h[i][j][s]+h[i+1][j][s])/dx/dx \n",
    "                                        +(ky[0]*h[i][j-1][s]-2*h[i][j][s]+h[i][j+1][s])/dy/dy\n",
    "                                        +(kz[0]*h[i][j][s-1]-2*h[i][j][s]+h[i][j][s+1])/dz2/dz2)\n",
    "\n",
    "\n",
    "    for i in range(1, Nx, 1):\n",
    "        for j in range(1, Ny,1):\n",
    "            for s in range(1, Nz1,1):\n",
    "                H[i][j][s] = H[i][j][s] + del_H[i][j][s]\n",
    "            for s in range(1, Nz2, 1):\n",
    "                h[i][j][s] = h[i][j][s] + del_h[i][j][s]\n",
    "            H[i][j][Nz2-1] = H[i][j][Nz2-2]\n",
    "    \n",
    "    \n",
    "    for i in range(1, Nx-1):\n",
    "        for j in range(1, Ny-1):\n",
    "            h[i][j][Nz1-1] = h[i][j][Nz1-1] + b1*dtau*(H[i][j][0] - h[i][j][Nz1-1])\n",
    "            H[i][j][0] = H[i][j][0] - b1*dtau*(H[i][j][0] - h[i][j][Nz1-1])\n",
    "    \n",
    "    ans.append(H[x0][y0][z0])#Hk[x0][y0][z0]-H[x0][y0][z0]\n",
    "    time_in_day.append(t/3600/24)\n",
    "    ans2[t] = H[x0][y0][z0]-Hk[x0][y0][z0]\n",
    "    \n",
    "    # для построения графика\n",
    "    #plt.clf()\n",
    "    #pl.plot(ans, time_in_day)\n",
    "    #display.clear_output(wait=True)\n",
    "    #display.display(pl.gcf())\n",
    "    # time.sleep(0.001)"
   ]
  },
  {
   "cell_type": "code",
   "execution_count": 94,
   "metadata": {},
   "outputs": [],
   "source": [
    "top = range(0,tau)\n",
    "time_in_day = list(map(lambda x: x/3600/24, top))"
   ]
  },
  {
   "cell_type": "code",
   "execution_count": 95,
   "metadata": {},
   "outputs": [
    {
     "data": {
      "text/plain": [
       "[<matplotlib.lines.Line2D at 0x7fe02dd11550>]"
      ]
     },
     "execution_count": 95,
     "metadata": {},
     "output_type": "execute_result"
    },
    {
     "data": {
      "image/png": "[encoded data removed]",
      "text/plain": [
       "<Figure size 432x288 with 1 Axes>"
      ]
     },
     "metadata": {
      "needs_background": "light"
     },
     "output_type": "display_data"
    }
   ],
   "source": [
    "plt.plot(time_in_day, ans2)\n",
    "#plt.xlim((-0.02,0.02))"
   ]
  },
  {
   "cell_type": "code",
   "execution_count": null,
   "metadata": {},
   "outputs": [],
   "source": []
  }
 ],
 "metadata": {
  "kernelspec": {
   "display_name": "Python 3",
   "language": "python",
   "name": "python3"
  },
  "language_info": {
   "codemirror_mode": {
    "name": "ipython",
    "version": 3
   },
   "file_extension": ".py",
   "mimetype": "text/x-python",
   "name": "python",
   "nbconvert_exporter": "python",
   "pygments_lexer": "ipython3",
   "version": "3.7.3"
  }
 },
 "nbformat": 4,
 "nbformat_minor": 2
}
