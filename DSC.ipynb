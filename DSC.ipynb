{
 "cells": [
  {
   "cell_type": "code",
   "execution_count": 1,
   "metadata": {},
   "outputs": [],
   "source": [
    "#import sys\n",
    "import matplotlib.animation as animation\n",
    "#import time\n",
    "import pylab as pl\n",
    "from IPython import display\n",
    "import numpy as np\n",
    "import multiprocessing as mp\n",
    "from numba import jit"
   ]
  },
  {
   "cell_type": "code",
   "execution_count": 2,
   "metadata": {},
   "outputs": [],
   "source": [
    "import math"
   ]
  },
  {
   "cell_type": "code",
   "execution_count": 3,
   "metadata": {
    "scrolled": true
   },
   "outputs": [
    {
     "data": {
      "image/png": "[encoded data removed]",
      "text/plain": [
       "<IPython.core.display.Image object>"
      ]
     },
     "execution_count": 3,
     "metadata": {},
     "output_type": "execute_result"
    }
   ],
   "source": [
    "from IPython.display import Image\n",
    "import matplotlib.pyplot as plt\n",
    "Image(\"img_borning_place.png\")"
   ]
  },
  {
   "cell_type": "code",
   "execution_count": 4,
   "metadata": {},
   "outputs": [],
   "source": [
    "# Входные данные. Задаём номер варианта\n",
    "N = 20\n",
    "# \n",
    "Lx = 250 + 10*N\n",
    "Ly = 200\n",
    "Lz1 = 80 + N\n",
    "Lz2 = 50 + 10*N\n",
    "\n",
    "# начальные состояния невозмущенных грунтовых вод\n",
    "H_201 = Lz1 + 10 + N #  м\n",
    "H_202 = H_201 - 25\n",
    "dH = H_201 - H_202\n",
    "w = 0.00001 #c-1"
   ]
  },
  {
   "cell_type": "code",
   "execution_count": 5,
   "metadata": {},
   "outputs": [
    {
     "name": "stdout",
     "output_type": "stream",
     "text": [
      "Геометрические данные:   Lx =  450    Ly =  200    Lz1 =  100    Lz2 =  250\n"
     ]
    }
   ],
   "source": [
    "print('Геометрические данные:  ','Lx = ',Lx,'  ','Ly = ',Ly,'  ','Lz1 = ',Lz1,'  ','Lz2 = ',Lz2,)"
   ]
  },
  {
   "cell_type": "code",
   "execution_count": 6,
   "metadata": {},
   "outputs": [],
   "source": [
    "# вычисление числа точек дискретизации по координатам\n",
    "Nx = 9\n",
    "Ny = 9\n",
    "Nz1 = 9\n",
    "Nz2 = 9\n",
    "\n",
    "# Средняя точка водоносного пласта ?????????\n",
    "x0 = 5 #Lx/2\n",
    "y0 = 5 #Ly/2\n",
    "z0 = 5 #Lz2/2\n",
    "\n",
    "# Добывающая скважина осуществляет забор гидроминерального сырья «точке»\n",
    "#Nx0 = 7\n",
    "#Ny0 = 11\n",
    "#Nz20 = 5\n",
    "\n",
    "# Шаги дисретизации заданы\n",
    "def step_d(L, N):\n",
    "    return L/(N-1)\n",
    "\n",
    "dx = step_d(Lx,Nx)\n",
    "dy = step_d(Ly,Ny)\n",
    "dz1 = step_d(Lz1,Nz1)\n",
    "dz2 = step_d(Lz2,Nz2)\n",
    "\n",
    "\n",
    "ch = 3600*24\n",
    "# Дебит рассматриваемой скважины\n",
    "Q = -100/ch# m^2/сут\n",
    "K = 1#0.00191487*0.8847618*1.8196176619 # 0.001\n",
    "V = K*Q\n",
    "\n",
    "# Коэффициенты фильтрациии по соответствующим координатам\n",
    "kx = np.array([0.198/ch, 0.146/ch])\n",
    "ky = np.array([0.196/ch, 0.148/ch])\n",
    "kz = np.array([0.148/ch, 0.024/ch])\n",
    "\n",
    "# упругоемкость пласта\n",
    "nu = 0.000581\n",
    "\n",
    "# параметр перетекания, сут^(-1)\n",
    "b1 = 0.0000035/ch "
   ]
  },
  {
   "cell_type": "code",
   "execution_count": 7,
   "metadata": {},
   "outputs": [],
   "source": [
    "@jit\n",
    "def dirac_delta_function(x, y, z):\n",
    "    return (1 if x == x0 and y == y0 and z == z0 else 0)"
   ]
  },
  {
   "cell_type": "code",
   "execution_count": 8,
   "metadata": {},
   "outputs": [],
   "source": [
    "# задание \n",
    "h = np.zeros((Nx,Ny,Nz1))\n",
    "H = np.zeros((Nx,Ny,Nz2))\n",
    "\n",
    "Hk = np.zeros((Nx,Ny,Nz2))\n",
    "\n",
    "del_h = np.zeros((Nx,Ny,Nz1))\n",
    "del_H = np.zeros((Nx,Ny,Nz2))"
   ]
  },
  {
   "cell_type": "code",
   "execution_count": 9,
   "metadata": {},
   "outputs": [],
   "source": [
    "for i in range(0,Nx,1):\n",
    "    for j in range(0,Ny,1):       \n",
    "        for s in range(0,Nz1,1):\n",
    "            h[i][j][s] = s*dz1"
   ]
  },
  {
   "cell_type": "code",
   "execution_count": 10,
   "metadata": {},
   "outputs": [],
   "source": [
    "for i in range(0,Nx):\n",
    "    for j in range(0,Ny):\n",
    "        for s in range(0,Nz2):\n",
    "            H[i][j][s] = H_201 - dH*i/Nx\n",
    "            Hk[i][j][s] = H[i][j][s]"
   ]
  },
  {
   "cell_type": "code",
   "execution_count": 11,
   "metadata": {},
   "outputs": [],
   "source": [
    "@jit\n",
    "def H_plus_dell(H, h,del_H,del_h, i, Ny, Nz1, Nz2):\n",
    "    for j in range(1, Ny):\n",
    "        for s in range(1, Nz1):\n",
    "            H[i][j][s] = H[i][j][s] + del_H[i][j][s]\n",
    "                #print(H[i][j][s])\n",
    "        for s in range(1, Nz2):\n",
    "            h[i][j][s] = h[i][j][s] + del_h[i][j][s]\n",
    "        H[i][j][Nz2-1] = H[i][j][Nz2-2]\n",
    "    return H, h"
   ]
  },
  {
   "cell_type": "code",
   "execution_count": 12,
   "metadata": {},
   "outputs": [],
   "source": [
    "@jit\n",
    "def narsan(del_H, i, j, dtau, kx, ky, kz, H, dx, dy, dz1,V):\n",
    "    for s in range(1, Nz1-1):\n",
    "        del_H[i][j][s] = (dtau/nu)*(kx[1]*(H[i-1][j][s]-2*H[i][j][s]+H[i+1][j][s])/(dx*dx)\n",
    "                                    +ky[1]*(H[i][j-1][s]-2*H[i][j][s]+H[i][j+1][s])/(dy*dy)\n",
    "                                    +kz[1]*(H[i][j][s-1]-2*H[i][j][s]+H[i][j][s+1])/(dz1*dz1))+V*dtau*dirac_delta_function(i,j,s)\n",
    "    return del_H"
   ]
  },
  {
   "cell_type": "code",
   "execution_count": 13,
   "metadata": {},
   "outputs": [],
   "source": [
    "@jit\n",
    "def ground(del_h, i, j, dtau, kx, ky, kz, H, dx, dy, dz2):\n",
    "    for s in range(1,Nz2-1,1):\n",
    "        del_h[i][j][s] = dtau*((kx[0]*h[i-1][j][s]-2*h[i][j][s]+h[i+1][j][s])/(dx*dx)\n",
    "                               +(ky[0]*h[i][j-1][s]-2*h[i][j][s]+h[i][j+1][s])/(dy*dy)\n",
    "                               +(kz[0]*h[i][j][s-1]-2*h[i][j][s]+h[i][j][s+1])/(dz2*dz2))\n",
    "    return del_h"
   ]
  },
  {
   "cell_type": "code",
   "execution_count": 14,
   "metadata": {},
   "outputs": [],
   "source": [
    "# регулировние процессами\n",
    "Htask = H[5][5][5]-10\n",
    "e_befor = 0#Htask-H_201\n",
    "kmax = 0.0001\n",
    "def PID_regulator(Htask, Hnow, sum_, E1, E4, E2, dtau, e_befor):\n",
    "    e = Htask - Hnow\n",
    "    sum_ = sum_ + E4*e*dtau # интегральная состовляющая\n",
    "    k0 = e-e_befor #возможно накапливает интегратор\n",
    "    #print(k0)\n",
    "    if math.fabs(k0) > kmax:\n",
    "        k0 = kmax\n",
    "    V_regul = E1*e + sum_ + E2*k0/dtau\n",
    "    e_befor = e\n",
    "    #print(H)\n",
    "    return V_regul, e_befor, sum_"
   ]
  },
  {
   "cell_type": "code",
   "execution_count": 15,
   "metadata": {},
   "outputs": [
    {
     "data": {
      "text/plain": [
       "106.11111111111111"
      ]
     },
     "execution_count": 15,
     "metadata": {},
     "output_type": "execute_result"
    }
   ],
   "source": [
    "Htask"
   ]
  },
  {
   "cell_type": "code",
   "execution_count": 16,
   "metadata": {},
   "outputs": [],
   "source": [
    "# Коэффициенты для ПИД регулятораRuntimeWarning: overflow encountered in double_scalars\n",
    "E1 = 0.381 #0.54\n",
    "E4 = 0.000020#0.0008#0.000074*2*math.pi/0.001#0.000074\n",
    "E2 = 50.639#0.2#134.62/2/math.pi*0.001#134.62 # диффер.0.23462"
   ]
  },
  {
   "cell_type": "code",
   "execution_count": 17,
   "metadata": {},
   "outputs": [
    {
     "data": {
      "text/plain": [
       "50.639"
      ]
     },
     "execution_count": 17,
     "metadata": {},
     "output_type": "execute_result"
    }
   ],
   "source": [
    "E2"
   ]
  },
  {
   "cell_type": "code",
   "execution_count": 18,
   "metadata": {},
   "outputs": [
    {
     "name": "stdout",
     "output_type": "stream",
     "text": [
      "0\n",
      "1\n",
      "2\n",
      "3\n",
      "4\n",
      "5\n",
      "6\n",
      "7\n",
      "8\n",
      "9\n",
      "10\n",
      "11\n",
      "12\n",
      "13\n",
      "14\n",
      "15\n",
      "16\n",
      "17\n",
      "18\n",
      "19\n",
      "20\n",
      "21\n",
      "22\n",
      "23\n",
      "24\n",
      "25\n",
      "26\n",
      "27\n",
      "28\n",
      "29\n",
      "30\n",
      "31\n",
      "32\n",
      "33\n",
      "34\n",
      "35\n",
      "36\n",
      "37\n",
      "38\n",
      "39\n",
      "40\n",
      "41\n",
      "42\n",
      "43\n",
      "44\n",
      "45\n",
      "46\n",
      "47\n",
      "48\n",
      "49\n",
      "50\n",
      "51\n",
      "52\n",
      "53\n",
      "54\n",
      "55\n",
      "56\n",
      "57\n",
      "58\n",
      "59\n",
      "60\n",
      "61\n",
      "62\n",
      "63\n",
      "64\n",
      "65\n",
      "66\n",
      "67\n",
      "68\n",
      "69\n",
      "70\n",
      "71\n",
      "72\n",
      "73\n",
      "74\n",
      "75\n",
      "76\n",
      "77\n",
      "78\n",
      "79\n",
      "80\n",
      "81\n",
      "82\n",
      "83\n",
      "84\n",
      "85\n",
      "86\n",
      "87\n",
      "88\n",
      "89\n",
      "90\n",
      "91\n",
      "92\n",
      "93\n",
      "94\n",
      "95\n",
      "96\n",
      "97\n",
      "98\n",
      "99\n",
      "100\n",
      "101\n",
      "102\n",
      "103\n",
      "104\n",
      "105\n",
      "106\n",
      "107\n",
      "108\n"
     ]
    },
    {
     "ename": "KeyboardInterrupt",
     "evalue": "",
     "output_type": "error",
     "traceback": [
      "\u001b[0;31m---------------------------------------------------------------------------\u001b[0m",
      "\u001b[0;31mKeyboardInterrupt\u001b[0m                         Traceback (most recent call last)",
      "\u001b[0;32m<ipython-input-18-279b8d7ceabf>\u001b[0m in \u001b[0;36m<module>\u001b[0;34m\u001b[0m\n\u001b[1;32m     20\u001b[0m         \u001b[0;32mfor\u001b[0m \u001b[0mi\u001b[0m \u001b[0;32min\u001b[0m \u001b[0mrange\u001b[0m\u001b[0;34m(\u001b[0m\u001b[0;36m1\u001b[0m\u001b[0;34m,\u001b[0m \u001b[0mNx\u001b[0m\u001b[0;34m-\u001b[0m\u001b[0;36m1\u001b[0m\u001b[0;34m,\u001b[0m \u001b[0;36m1\u001b[0m\u001b[0;34m)\u001b[0m\u001b[0;34m:\u001b[0m\u001b[0;34m\u001b[0m\u001b[0;34m\u001b[0m\u001b[0m\n\u001b[1;32m     21\u001b[0m             \u001b[0;32mfor\u001b[0m \u001b[0mj\u001b[0m \u001b[0;32min\u001b[0m \u001b[0mrange\u001b[0m\u001b[0;34m(\u001b[0m\u001b[0;36m1\u001b[0m\u001b[0;34m,\u001b[0m \u001b[0mNy\u001b[0m\u001b[0;34m-\u001b[0m\u001b[0;36m1\u001b[0m\u001b[0;34m,\u001b[0m\u001b[0;36m1\u001b[0m\u001b[0;34m)\u001b[0m\u001b[0;34m:\u001b[0m\u001b[0;34m\u001b[0m\u001b[0;34m\u001b[0m\u001b[0m\n\u001b[0;32m---> 22\u001b[0;31m                 \u001b[0mdel_H\u001b[0m \u001b[0;34m=\u001b[0m \u001b[0mnarsan\u001b[0m\u001b[0;34m(\u001b[0m\u001b[0mdel_H\u001b[0m\u001b[0;34m,\u001b[0m \u001b[0mi\u001b[0m\u001b[0;34m,\u001b[0m \u001b[0mj\u001b[0m\u001b[0;34m,\u001b[0m \u001b[0mdtau\u001b[0m\u001b[0;34m,\u001b[0m \u001b[0mkx\u001b[0m\u001b[0;34m,\u001b[0m \u001b[0mky\u001b[0m\u001b[0;34m,\u001b[0m \u001b[0mkz\u001b[0m\u001b[0;34m,\u001b[0m \u001b[0mH\u001b[0m\u001b[0;34m,\u001b[0m \u001b[0mdx\u001b[0m\u001b[0;34m,\u001b[0m \u001b[0mdy\u001b[0m\u001b[0;34m,\u001b[0m \u001b[0mdz1\u001b[0m\u001b[0;34m,\u001b[0m\u001b[0mV_t\u001b[0m\u001b[0;34m)\u001b[0m\u001b[0;34m\u001b[0m\u001b[0;34m\u001b[0m\u001b[0m\n\u001b[0m\u001b[1;32m     23\u001b[0m                 \u001b[0mdel_h\u001b[0m \u001b[0;34m=\u001b[0m \u001b[0mground\u001b[0m\u001b[0;34m(\u001b[0m\u001b[0mdel_h\u001b[0m\u001b[0;34m,\u001b[0m \u001b[0mi\u001b[0m\u001b[0;34m,\u001b[0m \u001b[0mj\u001b[0m\u001b[0;34m,\u001b[0m \u001b[0mdtau\u001b[0m\u001b[0;34m,\u001b[0m \u001b[0mkx\u001b[0m\u001b[0;34m,\u001b[0m \u001b[0mky\u001b[0m\u001b[0;34m,\u001b[0m \u001b[0mkz\u001b[0m\u001b[0;34m,\u001b[0m \u001b[0mH\u001b[0m\u001b[0;34m,\u001b[0m \u001b[0mdx\u001b[0m\u001b[0;34m,\u001b[0m \u001b[0mdy\u001b[0m\u001b[0;34m,\u001b[0m \u001b[0mdz2\u001b[0m\u001b[0;34m)\u001b[0m\u001b[0;34m\u001b[0m\u001b[0;34m\u001b[0m\u001b[0m\n\u001b[1;32m     24\u001b[0m \u001b[0;34m\u001b[0m\u001b[0m\n",
      "\u001b[0;31mKeyboardInterrupt\u001b[0m: "
     ]
    }
   ],
   "source": [
    "import time\n",
    "start_time = time.time()\n",
    "dtau = 1\n",
    "tau = 1600\n",
    "start_t = 0\n",
    "time_in_day = []\n",
    "ans2 = []#[0]*tau*10\n",
    "ans = []\n",
    "in_ = []\n",
    "index = 0\n",
    "sum_ = 0\n",
    "Q_t = 0\n",
    "\n",
    "for t in range (start_t,tau):\n",
    "    for tt in range (start_t,1000):\n",
    "        index = index + dtau\n",
    "        Q_t,e_befor,sum_ = PID_regulator(Htask,H[5][5][5],sum_, E1, E4, E2, dtau, e_befor)\n",
    "        #V_t = V*math.sin(w*index)\n",
    "        V_t = Q_t*K\n",
    "        for i in range(1, Nx-1, 1):\n",
    "            for j in range(1, Ny-1,1):\n",
    "                del_H = narsan(del_H, i, j, dtau, kx, ky, kz, H, dx, dy, dz1,V_t)\n",
    "                del_h = ground(del_h, i, j, dtau, kx, ky, kz, H, dx, dy, dz2)\n",
    "    \n",
    "        for i in range(1, Nx, 1):\n",
    "            H,h = H_plus_dell(H, h,del_H, del_h, i, Ny, Nz1, Nz2)               \n",
    "    \n",
    "        for i in range(1, Nx-1):\n",
    "            for j in range(1, Ny-1):\n",
    "                h[i][j][Nz1-1] = h[i][j][Nz1-1] + b1*dtau*(H[i][j][0] - h[i][j][Nz1-1])\n",
    "                H[i][j][0] = H[i][j][0] - b1*dtau*(H[i][j][0] - h[i][j][Nz1-1])\n",
    "                \n",
    "    time_in_day.append(index/3600)\n",
    "    ans2.append(H[x0][y0][z0]-Htask)#(H[x0][y0][z0])#H[x0][y0][z0]-Hk[x0][y0][z0]\n",
    "    ans.append(H[x0][y0][z0]) #- Hk[x0][y0][z0]))\n",
    "    in_.append(Q_t)\n",
    "    #print(del_H[x0][y0][z0])\n",
    "    # для построения графика\n",
    "    #plt.clf()\n",
    "    #plt.plot(time_in_day,ans2)\n",
    "    #display.clear_output(wait=True)\n",
    "    #display.display(pl.gcf())\n",
    "    # time.sleep(0.001)\n",
    "    print(t)\n",
    "print(\"--- %s seconds ---\" % (time.time() - start_time))"
   ]
  },
  {
   "cell_type": "markdown",
   "metadata": {},
   "source": [
    "top = range(0,index)\n",
    "time_in_day = []\n",
    "time_in_day = list(map(lambda x: x/3600/100000, top))\n",
    "ans_ra = list(map(lambda x: x-Hk, ans))"
   ]
  },
  {
   "cell_type": "code",
   "execution_count": 19,
   "metadata": {
    "scrolled": false
   },
   "outputs": [
    {
     "data": {
      "image/png": "[encoded data removed]",
      "text/plain": [
       "<Figure size 864x432 with 1 Axes>"
      ]
     },
     "metadata": {
      "needs_background": "light"
     },
     "output_type": "display_data"
    }
   ],
   "source": [
    "plt.figure(figsize=(12,6))\n",
    "plt.grid()\n",
    "#plt.xlim((-0.02,5))\n",
    "plt.xlabel('Время в часах',fontsize = 14)\n",
    "plt.ylabel('/Изменение уровня в м.', fontsize = 14)\n",
    "\n",
    "#plt.xlim(0,20)\n",
    "plt.tick_params(labelsize=14)\n",
    "plt.plot(time_in_day,ans2)\n",
    "plt.savefig('Basic_regul1.png', dpi=300)"
   ]
  },
  {
   "cell_type": "code",
   "execution_count": 20,
   "metadata": {},
   "outputs": [
    {
     "data": {
      "image/png": "[encoded data removed]",
      "text/plain": [
       "<Figure size 864x432 with 1 Axes>"
      ]
     },
     "metadata": {
      "needs_background": "light"
     },
     "output_type": "display_data"
    }
   ],
   "source": [
    "plt.figure(figsize=(12,6))\n",
    "plt.grid()\n",
    "#plt.xlim((0,5))\n",
    "plt.xlabel('Время в часах',fontsize = 14)\n",
    "plt.ylabel('Рассогласование в м.', fontsize = 14)\n",
    "#plt.xlim(0,20)\n",
    "plt.tick_params(labelsize=14)\n",
    "plt.plot(time_in_day,ans2)\n",
    "plt.savefig('Basic_gul1.png', dpi=300)"
   ]
  },
  {
   "cell_type": "code",
   "execution_count": 21,
   "metadata": {
    "scrolled": true
   },
   "outputs": [
    {
     "data": {
      "image/png": "[encoded data removed]",
      "text/plain": [
       "<Figure size 864x432 with 1 Axes>"
      ]
     },
     "metadata": {
      "needs_background": "light"
     },
     "output_type": "display_data"
    }
   ],
   "source": [
    "plt.figure(figsize=(12,6))\n",
    "plt.grid()\n",
    "#plt.xlim((-0.02,0.02))\n",
    "plt.xlabel('Время в часах',fontsize = 14)\n",
    "plt.ylabel('Входное воздействие (дебит)', fontsize = 14)\n",
    "#plt.xlim(0,20)\n",
    "plt.tick_params(labelsize=14)\n",
    "plt.plot(time_in_day,in_)\n",
    "plt.savefig('Basic_552.png', dpi=300)"
   ]
  },
  {
   "cell_type": "markdown",
   "metadata": {},
   "source": [
    "fig, axs = plt.subplots(2)\n",
    "fig.suptitle('Vertically stacked subplots')\n",
    "axs[0].plot(time_in_day,ans2)\n",
    "axs[1].plot(time_in_day,in_)"
   ]
  },
  {
   "cell_type": "code",
   "execution_count": null,
   "metadata": {},
   "outputs": [],
   "source": [
    "del_tau_ = -150+132\n",
    "\n",
    "# определение статического коэффициента усиления\n",
    "Ks = (115.8-116.10) / Q\n",
    "# Период\n",
    "T = 2*math.pi/0.00001/3600\n",
    "# Сдвиг по фазе\n",
    "fi = 2*math.pi*del_tau_/T"
   ]
  },
  {
   "cell_type": "code",
   "execution_count": null,
   "metadata": {},
   "outputs": [],
   "source": [
    "print('Ks=',Ks, 'T= ',T,'fi= ',fi)"
   ]
  },
  {
   "cell_type": "code",
   "execution_count": null,
   "metadata": {},
   "outputs": [],
   "source": [
    "dz = 1 \n",
    "# Результат синтеза в ПО:\n",
    "a1 = 0.00003470\n",
    "kvz = 263.30354811"
   ]
  },
  {
   "cell_type": "code",
   "execution_count": null,
   "metadata": {},
   "outputs": [],
   "source": [
    "# запас по фазе \n",
    "fd = math.pi/4\n",
    "# можно сделать запас по фазе больше pi/6 например\n",
    "dd = 2 # 2 декады на параметрическое возмущение\n",
    "#запас пи/6 лушче"
   ]
  },
  {
   "cell_type": "markdown",
   "metadata": {},
   "source": [
    "b=np.array(H-Hk)\n",
    "import pylab\n",
    "from mpl_toolkits.mplot3d import Axes3D\n",
    "from matplotlib.colors import LinearSegmentedColormap\n",
    "from matplotlib import cm\n",
    "import numpy\n",
    "def makeData ():\n",
    "    z = numpy.zeros((9,9))\n",
    "    x = numpy.arange (0, 9, 1)\n",
    "    y = numpy.arange (0, 9, 1)\n",
    "    xgrid, ygrid = numpy.meshgrid(x, y)\n",
    "    #print(xgrid[5])\n",
    "    #print(type(xgrid))\n",
    "    for i in range(0,9):\n",
    "        for k in range(0,9):\n",
    "            z[i][k] = b[i][k][5]\n",
    "    zgrid = z\n",
    "    return xgrid, ygrid, zgrid\n",
    "\n",
    "x, y, z = makeData()\n",
    "#print(type(z))\n",
    "fig = pylab.figure(figsize=(10,6))\n",
    "axes = Axes3D(fig)\n",
    "axes.plot_surface(x, y, z, rstride=1, cstride=1, cmap = cm.summer)\n",
    "axes.set_zlim(-0.35, 0.05)\n",
    "axes.set_xlabel('x',fontsize=12)\n",
    "axes.set_ylabel('y',fontsize=12)\n",
    "axes.set_zlabel('H-Hk,m',fontsize=12)\n",
    "\n",
    "axes.tick_params(labelsize=12)\n",
    "pylab.show()\n",
    "fig.savefig('gist.png', dpi=300)"
   ]
  }
 ],
 "metadata": {
  "kernelspec": {
   "display_name": "Python 3",
   "language": "python",
   "name": "python3"
  },
  "language_info": {
   "codemirror_mode": {
    "name": "ipython",
    "version": 3
   },
   "file_extension": ".py",
   "mimetype": "text/x-python",
   "name": "python",
   "nbconvert_exporter": "python",
   "pygments_lexer": "ipython3",
   "version": "3.7.3"
  }
 },
 "nbformat": 4,
 "nbformat_minor": 2
}
